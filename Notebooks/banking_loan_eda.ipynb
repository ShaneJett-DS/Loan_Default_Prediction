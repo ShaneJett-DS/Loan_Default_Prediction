{
 "cells": [
  {
   "cell_type": "code",
   "execution_count": 78,
   "metadata": {},
   "outputs": [],
   "source": [
    "import pandas as pd\n",
    "import matplotlib.pyplot as plt\n",
    "import plotly.express as px\n",
    "import seaborn as sns\n",
    "import os\n"
   ]
  },
  {
   "cell_type": "code",
   "execution_count": 79,
   "metadata": {},
   "outputs": [],
   "source": [
    "# Import training data & testing data\n",
    "cwd = os.getcwd()\n",
    "train_data_import = pd.read_csv(cwd + \"./banking_train.csv\", sep=\";\")\n",
    "test_data_import = pd.read_csv(cwd + \"./banking_test.csv\", sep=\";\")\n",
    "\n",
    "# Create copies of the original data to manipulate\n",
    "train_data = train_data_import.copy()\n",
    "test_data = test_data_import.copy()"
   ]
  },
  {
   "attachments": {},
   "cell_type": "markdown",
   "metadata": {},
   "source": [
    "## Project Ideas:\n",
    "### Sections(Campaign):\n",
    "1. EDA - (Crosstabs, Visualizations, )\n",
    "2. Modeling - ()\n",
    "* Explore the data to identify which customers are most likely to default \n",
    "* Explore the data to identify which customers are most likely to take out loans\n",
    "* PCA Analysis to reduce noise within the data.\n",
    "* Cluster Analysis???\n"
   ]
  },
  {
   "cell_type": "code",
   "execution_count": 80,
   "metadata": {},
   "outputs": [
    {
     "data": {
      "text/html": [
       "<div>\n",
       "<style scoped>\n",
       "    .dataframe tbody tr th:only-of-type {\n",
       "        vertical-align: middle;\n",
       "    }\n",
       "\n",
       "    .dataframe tbody tr th {\n",
       "        vertical-align: top;\n",
       "    }\n",
       "\n",
       "    .dataframe thead th {\n",
       "        text-align: right;\n",
       "    }\n",
       "</style>\n",
       "<table border=\"1\" class=\"dataframe\">\n",
       "  <thead>\n",
       "    <tr style=\"text-align: right;\">\n",
       "      <th></th>\n",
       "      <th>age</th>\n",
       "      <th>job</th>\n",
       "      <th>marital</th>\n",
       "      <th>education</th>\n",
       "      <th>default</th>\n",
       "      <th>balance</th>\n",
       "      <th>housing</th>\n",
       "      <th>loan</th>\n",
       "      <th>contact</th>\n",
       "      <th>day</th>\n",
       "      <th>month</th>\n",
       "      <th>duration</th>\n",
       "      <th>campaign</th>\n",
       "      <th>pdays</th>\n",
       "      <th>previous</th>\n",
       "      <th>poutcome</th>\n",
       "      <th>y</th>\n",
       "    </tr>\n",
       "  </thead>\n",
       "  <tbody>\n",
       "    <tr>\n",
       "      <th>0</th>\n",
       "      <td>58</td>\n",
       "      <td>management</td>\n",
       "      <td>married</td>\n",
       "      <td>tertiary</td>\n",
       "      <td>no</td>\n",
       "      <td>2143</td>\n",
       "      <td>yes</td>\n",
       "      <td>no</td>\n",
       "      <td>unknown</td>\n",
       "      <td>5</td>\n",
       "      <td>may</td>\n",
       "      <td>261</td>\n",
       "      <td>1</td>\n",
       "      <td>-1</td>\n",
       "      <td>0</td>\n",
       "      <td>unknown</td>\n",
       "      <td>no</td>\n",
       "    </tr>\n",
       "    <tr>\n",
       "      <th>1</th>\n",
       "      <td>44</td>\n",
       "      <td>technician</td>\n",
       "      <td>single</td>\n",
       "      <td>secondary</td>\n",
       "      <td>no</td>\n",
       "      <td>29</td>\n",
       "      <td>yes</td>\n",
       "      <td>no</td>\n",
       "      <td>unknown</td>\n",
       "      <td>5</td>\n",
       "      <td>may</td>\n",
       "      <td>151</td>\n",
       "      <td>1</td>\n",
       "      <td>-1</td>\n",
       "      <td>0</td>\n",
       "      <td>unknown</td>\n",
       "      <td>no</td>\n",
       "    </tr>\n",
       "    <tr>\n",
       "      <th>2</th>\n",
       "      <td>33</td>\n",
       "      <td>entrepreneur</td>\n",
       "      <td>married</td>\n",
       "      <td>secondary</td>\n",
       "      <td>no</td>\n",
       "      <td>2</td>\n",
       "      <td>yes</td>\n",
       "      <td>yes</td>\n",
       "      <td>unknown</td>\n",
       "      <td>5</td>\n",
       "      <td>may</td>\n",
       "      <td>76</td>\n",
       "      <td>1</td>\n",
       "      <td>-1</td>\n",
       "      <td>0</td>\n",
       "      <td>unknown</td>\n",
       "      <td>no</td>\n",
       "    </tr>\n",
       "    <tr>\n",
       "      <th>3</th>\n",
       "      <td>47</td>\n",
       "      <td>blue-collar</td>\n",
       "      <td>married</td>\n",
       "      <td>unknown</td>\n",
       "      <td>no</td>\n",
       "      <td>1506</td>\n",
       "      <td>yes</td>\n",
       "      <td>no</td>\n",
       "      <td>unknown</td>\n",
       "      <td>5</td>\n",
       "      <td>may</td>\n",
       "      <td>92</td>\n",
       "      <td>1</td>\n",
       "      <td>-1</td>\n",
       "      <td>0</td>\n",
       "      <td>unknown</td>\n",
       "      <td>no</td>\n",
       "    </tr>\n",
       "    <tr>\n",
       "      <th>4</th>\n",
       "      <td>33</td>\n",
       "      <td>unknown</td>\n",
       "      <td>single</td>\n",
       "      <td>unknown</td>\n",
       "      <td>no</td>\n",
       "      <td>1</td>\n",
       "      <td>no</td>\n",
       "      <td>no</td>\n",
       "      <td>unknown</td>\n",
       "      <td>5</td>\n",
       "      <td>may</td>\n",
       "      <td>198</td>\n",
       "      <td>1</td>\n",
       "      <td>-1</td>\n",
       "      <td>0</td>\n",
       "      <td>unknown</td>\n",
       "      <td>no</td>\n",
       "    </tr>\n",
       "  </tbody>\n",
       "</table>\n",
       "</div>"
      ],
      "text/plain": [
       "   age           job  marital  education default  balance housing loan  \\\n",
       "0   58    management  married   tertiary      no     2143     yes   no   \n",
       "1   44    technician   single  secondary      no       29     yes   no   \n",
       "2   33  entrepreneur  married  secondary      no        2     yes  yes   \n",
       "3   47   blue-collar  married    unknown      no     1506     yes   no   \n",
       "4   33       unknown   single    unknown      no        1      no   no   \n",
       "\n",
       "   contact  day month  duration  campaign  pdays  previous poutcome   y  \n",
       "0  unknown    5   may       261         1     -1         0  unknown  no  \n",
       "1  unknown    5   may       151         1     -1         0  unknown  no  \n",
       "2  unknown    5   may        76         1     -1         0  unknown  no  \n",
       "3  unknown    5   may        92         1     -1         0  unknown  no  \n",
       "4  unknown    5   may       198         1     -1         0  unknown  no  "
      ]
     },
     "execution_count": 80,
     "metadata": {},
     "output_type": "execute_result"
    }
   ],
   "source": [
    "train_data.head()"
   ]
  },
  {
   "attachments": {},
   "cell_type": "markdown",
   "metadata": {},
   "source": [
    "## Exploratory Data Analysis\n",
    "* Explore missing values\n",
    "* Descriptive Statistics\n",
    "* Remove predictor variables with weak predictive power\n",
    "* Examine the Dataframe\n",
    "* Visualize & Eliminate Outliers\n",
    "* Visualize the Distribution of Independent Variables vs Dependent Variables"
   ]
  },
  {
   "cell_type": "code",
   "execution_count": 81,
   "metadata": {},
   "outputs": [
    {
     "name": "stdout",
     "output_type": "stream",
     "text": [
      "<class 'pandas.core.frame.DataFrame'>\n",
      "RangeIndex: 45211 entries, 0 to 45210\n",
      "Data columns (total 17 columns):\n",
      " #   Column     Non-Null Count  Dtype \n",
      "---  ------     --------------  ----- \n",
      " 0   age        45211 non-null  int64 \n",
      " 1   job        45211 non-null  object\n",
      " 2   marital    45211 non-null  object\n",
      " 3   education  45211 non-null  object\n",
      " 4   default    45211 non-null  object\n",
      " 5   balance    45211 non-null  int64 \n",
      " 6   housing    45211 non-null  object\n",
      " 7   loan       45211 non-null  object\n",
      " 8   contact    45211 non-null  object\n",
      " 9   day        45211 non-null  int64 \n",
      " 10  month      45211 non-null  object\n",
      " 11  duration   45211 non-null  int64 \n",
      " 12  campaign   45211 non-null  int64 \n",
      " 13  pdays      45211 non-null  int64 \n",
      " 14  previous   45211 non-null  int64 \n",
      " 15  poutcome   45211 non-null  object\n",
      " 16  y          45211 non-null  object\n",
      "dtypes: int64(7), object(10)\n",
      "memory usage: 5.9+ MB\n"
     ]
    }
   ],
   "source": [
    "train_data.info()"
   ]
  },
  {
   "cell_type": "code",
   "execution_count": 82,
   "metadata": {},
   "outputs": [
    {
     "data": {
      "text/html": [
       "<div>\n",
       "<style scoped>\n",
       "    .dataframe tbody tr th:only-of-type {\n",
       "        vertical-align: middle;\n",
       "    }\n",
       "\n",
       "    .dataframe tbody tr th {\n",
       "        vertical-align: top;\n",
       "    }\n",
       "\n",
       "    .dataframe thead th {\n",
       "        text-align: right;\n",
       "    }\n",
       "</style>\n",
       "<table border=\"1\" class=\"dataframe\">\n",
       "  <thead>\n",
       "    <tr style=\"text-align: right;\">\n",
       "      <th></th>\n",
       "      <th>age</th>\n",
       "      <th>balance</th>\n",
       "      <th>day</th>\n",
       "      <th>duration</th>\n",
       "      <th>campaign</th>\n",
       "      <th>pdays</th>\n",
       "      <th>previous</th>\n",
       "    </tr>\n",
       "  </thead>\n",
       "  <tbody>\n",
       "    <tr>\n",
       "      <th>count</th>\n",
       "      <td>45211.000000</td>\n",
       "      <td>45211.000000</td>\n",
       "      <td>45211.000000</td>\n",
       "      <td>45211.000000</td>\n",
       "      <td>45211.000000</td>\n",
       "      <td>45211.000000</td>\n",
       "      <td>45211.000000</td>\n",
       "    </tr>\n",
       "    <tr>\n",
       "      <th>mean</th>\n",
       "      <td>40.936210</td>\n",
       "      <td>1362.272058</td>\n",
       "      <td>15.806419</td>\n",
       "      <td>258.163080</td>\n",
       "      <td>2.763841</td>\n",
       "      <td>40.197828</td>\n",
       "      <td>0.580323</td>\n",
       "    </tr>\n",
       "    <tr>\n",
       "      <th>std</th>\n",
       "      <td>10.618762</td>\n",
       "      <td>3044.765829</td>\n",
       "      <td>8.322476</td>\n",
       "      <td>257.527812</td>\n",
       "      <td>3.098021</td>\n",
       "      <td>100.128746</td>\n",
       "      <td>2.303441</td>\n",
       "    </tr>\n",
       "    <tr>\n",
       "      <th>min</th>\n",
       "      <td>18.000000</td>\n",
       "      <td>-8019.000000</td>\n",
       "      <td>1.000000</td>\n",
       "      <td>0.000000</td>\n",
       "      <td>1.000000</td>\n",
       "      <td>-1.000000</td>\n",
       "      <td>0.000000</td>\n",
       "    </tr>\n",
       "    <tr>\n",
       "      <th>25%</th>\n",
       "      <td>33.000000</td>\n",
       "      <td>72.000000</td>\n",
       "      <td>8.000000</td>\n",
       "      <td>103.000000</td>\n",
       "      <td>1.000000</td>\n",
       "      <td>-1.000000</td>\n",
       "      <td>0.000000</td>\n",
       "    </tr>\n",
       "    <tr>\n",
       "      <th>50%</th>\n",
       "      <td>39.000000</td>\n",
       "      <td>448.000000</td>\n",
       "      <td>16.000000</td>\n",
       "      <td>180.000000</td>\n",
       "      <td>2.000000</td>\n",
       "      <td>-1.000000</td>\n",
       "      <td>0.000000</td>\n",
       "    </tr>\n",
       "    <tr>\n",
       "      <th>75%</th>\n",
       "      <td>48.000000</td>\n",
       "      <td>1428.000000</td>\n",
       "      <td>21.000000</td>\n",
       "      <td>319.000000</td>\n",
       "      <td>3.000000</td>\n",
       "      <td>-1.000000</td>\n",
       "      <td>0.000000</td>\n",
       "    </tr>\n",
       "    <tr>\n",
       "      <th>max</th>\n",
       "      <td>95.000000</td>\n",
       "      <td>102127.000000</td>\n",
       "      <td>31.000000</td>\n",
       "      <td>4918.000000</td>\n",
       "      <td>63.000000</td>\n",
       "      <td>871.000000</td>\n",
       "      <td>275.000000</td>\n",
       "    </tr>\n",
       "  </tbody>\n",
       "</table>\n",
       "</div>"
      ],
      "text/plain": [
       "                age        balance           day      duration      campaign  \\\n",
       "count  45211.000000   45211.000000  45211.000000  45211.000000  45211.000000   \n",
       "mean      40.936210    1362.272058     15.806419    258.163080      2.763841   \n",
       "std       10.618762    3044.765829      8.322476    257.527812      3.098021   \n",
       "min       18.000000   -8019.000000      1.000000      0.000000      1.000000   \n",
       "25%       33.000000      72.000000      8.000000    103.000000      1.000000   \n",
       "50%       39.000000     448.000000     16.000000    180.000000      2.000000   \n",
       "75%       48.000000    1428.000000     21.000000    319.000000      3.000000   \n",
       "max       95.000000  102127.000000     31.000000   4918.000000     63.000000   \n",
       "\n",
       "              pdays      previous  \n",
       "count  45211.000000  45211.000000  \n",
       "mean      40.197828      0.580323  \n",
       "std      100.128746      2.303441  \n",
       "min       -1.000000      0.000000  \n",
       "25%       -1.000000      0.000000  \n",
       "50%       -1.000000      0.000000  \n",
       "75%       -1.000000      0.000000  \n",
       "max      871.000000    275.000000  "
      ]
     },
     "execution_count": 82,
     "metadata": {},
     "output_type": "execute_result"
    }
   ],
   "source": [
    "# Descriptive statistics for the training data\n",
    "train_data.describe()"
   ]
  },
  {
   "attachments": {},
   "cell_type": "markdown",
   "metadata": {},
   "source": [
    "## Numeric Variable Analysis\n",
    "\n",
    "### Age\n",
    "* Young_Adult: < 25\n",
    "* Adult: 26 - 55\n",
    "* Senior_Adult: > 55"
   ]
  },
  {
   "cell_type": "code",
   "execution_count": 83,
   "metadata": {},
   "outputs": [
    {
     "data": {
      "text/plain": [
       "count    45211.000000\n",
       "mean        40.936210\n",
       "std         10.618762\n",
       "min         18.000000\n",
       "1%          23.000000\n",
       "5%          27.000000\n",
       "10%         29.000000\n",
       "25%         33.000000\n",
       "50%         39.000000\n",
       "75%         48.000000\n",
       "90%         56.000000\n",
       "95%         59.000000\n",
       "99%         71.000000\n",
       "max         95.000000\n",
       "Name: age, dtype: float64"
      ]
     },
     "execution_count": 83,
     "metadata": {},
     "output_type": "execute_result"
    }
   ],
   "source": [
    "train_data['age'].describe(percentiles=[.01, .05,.1,.25,.5,.75,.9,.95,.99])"
   ]
  },
  {
   "cell_type": "code",
   "execution_count": 84,
   "metadata": {},
   "outputs": [
    {
     "name": "stdout",
     "output_type": "stream",
     "text": [
      "Age Category Frequency Counts\n"
     ]
    },
    {
     "data": {
      "text/plain": [
       "Adult           38975\n",
       "Senior_Adult     4900\n",
       "Young_Adult      1336\n",
       "Name: age_cat, dtype: int64"
      ]
     },
     "metadata": {},
     "output_type": "display_data"
    },
    {
     "name": "stdout",
     "output_type": "stream",
     "text": [
      "Age Category vs Loan\n"
     ]
    },
    {
     "data": {
      "text/html": [
       "<div>\n",
       "<style scoped>\n",
       "    .dataframe tbody tr th:only-of-type {\n",
       "        vertical-align: middle;\n",
       "    }\n",
       "\n",
       "    .dataframe tbody tr th {\n",
       "        vertical-align: top;\n",
       "    }\n",
       "\n",
       "    .dataframe thead th {\n",
       "        text-align: right;\n",
       "    }\n",
       "</style>\n",
       "<table border=\"1\" class=\"dataframe\">\n",
       "  <thead>\n",
       "    <tr style=\"text-align: right;\">\n",
       "      <th>loan</th>\n",
       "      <th>no</th>\n",
       "      <th>yes</th>\n",
       "    </tr>\n",
       "    <tr>\n",
       "      <th>age_cat</th>\n",
       "      <th></th>\n",
       "      <th></th>\n",
       "    </tr>\n",
       "  </thead>\n",
       "  <tbody>\n",
       "    <tr>\n",
       "      <th>Adult</th>\n",
       "      <td>0.834920</td>\n",
       "      <td>0.165080</td>\n",
       "    </tr>\n",
       "    <tr>\n",
       "      <th>Senior_Adult</th>\n",
       "      <td>0.871224</td>\n",
       "      <td>0.128776</td>\n",
       "    </tr>\n",
       "    <tr>\n",
       "      <th>Young_Adult</th>\n",
       "      <td>0.866018</td>\n",
       "      <td>0.133982</td>\n",
       "    </tr>\n",
       "  </tbody>\n",
       "</table>\n",
       "</div>"
      ],
      "text/plain": [
       "loan                no       yes\n",
       "age_cat                         \n",
       "Adult         0.834920  0.165080\n",
       "Senior_Adult  0.871224  0.128776\n",
       "Young_Adult   0.866018  0.133982"
      ]
     },
     "metadata": {},
     "output_type": "display_data"
    }
   ],
   "source": [
    "def age_conv(age):\n",
    "    if age <= 25:\n",
    "        return 'Young_Adult'\n",
    "    elif age <= 55:\n",
    "        return 'Adult'\n",
    "    else:\n",
    "        return 'Senior_Adult'\n",
    "\n",
    "train_data['age_cat'] = train_data['age'].apply(age_conv)\n",
    "\n",
    "test_data['age_cat'] = train_data['age'].apply(age_conv)\n",
    "\n",
    "print('Age Category Frequency Counts')\n",
    "display(train_data['age_cat'].value_counts())\n",
    "print('Age Category vs Loan')\n",
    "display(pd.crosstab(train_data['age_cat'], train_data['loan'], normalize='index'))"
   ]
  },
  {
   "attachments": {},
   "cell_type": "markdown",
   "metadata": {},
   "source": [
    "### Balance: balance_cat\n",
    "* Negative: < 0\n",
    "* Positive: >= 0"
   ]
  },
  {
   "cell_type": "code",
   "execution_count": 85,
   "metadata": {},
   "outputs": [
    {
     "data": {
      "text/plain": [
       "count     45211.000000\n",
       "mean       1362.272058\n",
       "std        3044.765829\n",
       "min       -8019.000000\n",
       "1%         -627.000000\n",
       "5%         -172.000000\n",
       "10%           0.000000\n",
       "25%          72.000000\n",
       "50%         448.000000\n",
       "75%        1428.000000\n",
       "90%        3574.000000\n",
       "95%        5768.000000\n",
       "99%       13164.900000\n",
       "max      102127.000000\n",
       "Name: balance, dtype: float64"
      ]
     },
     "execution_count": 85,
     "metadata": {},
     "output_type": "execute_result"
    }
   ],
   "source": [
    "train_data['balance'].describe(percentiles=[.01, .05,.1,.25,.5,.75,.9,.95,.99])"
   ]
  },
  {
   "cell_type": "code",
   "execution_count": 86,
   "metadata": {},
   "outputs": [
    {
     "data": {
      "text/plain": [
       "Positive    41445\n",
       "Negative     3766\n",
       "Name: balance_cat, dtype: int64"
      ]
     },
     "metadata": {},
     "output_type": "display_data"
    },
    {
     "data": {
      "text/html": [
       "<div>\n",
       "<style scoped>\n",
       "    .dataframe tbody tr th:only-of-type {\n",
       "        vertical-align: middle;\n",
       "    }\n",
       "\n",
       "    .dataframe tbody tr th {\n",
       "        vertical-align: top;\n",
       "    }\n",
       "\n",
       "    .dataframe thead th {\n",
       "        text-align: right;\n",
       "    }\n",
       "</style>\n",
       "<table border=\"1\" class=\"dataframe\">\n",
       "  <thead>\n",
       "    <tr style=\"text-align: right;\">\n",
       "      <th>loan</th>\n",
       "      <th>no</th>\n",
       "      <th>yes</th>\n",
       "    </tr>\n",
       "    <tr>\n",
       "      <th>balance_cat</th>\n",
       "      <th></th>\n",
       "      <th></th>\n",
       "    </tr>\n",
       "  </thead>\n",
       "  <tbody>\n",
       "    <tr>\n",
       "      <th>Negative</th>\n",
       "      <td>0.678704</td>\n",
       "      <td>0.321296</td>\n",
       "    </tr>\n",
       "    <tr>\n",
       "      <th>Positive</th>\n",
       "      <td>0.854409</td>\n",
       "      <td>0.145591</td>\n",
       "    </tr>\n",
       "  </tbody>\n",
       "</table>\n",
       "</div>"
      ],
      "text/plain": [
       "loan               no       yes\n",
       "balance_cat                    \n",
       "Negative     0.678704  0.321296\n",
       "Positive     0.854409  0.145591"
      ]
     },
     "metadata": {},
     "output_type": "display_data"
    }
   ],
   "source": [
    "train_data['balance_cat'] = train_data['balance'].apply(lambda x: 'Negative' if x < 0 else 'Positive')\n",
    "\n",
    "test_data['balance_cat'] = test_data['balance'].apply(lambda x: 'Negative' if x < 0 else 'Positive')\n",
    "\n",
    "\n",
    "display(train_data['balance_cat'].value_counts())\n",
    "\n",
    "display(pd.crosstab(train_data['balance_cat'], train_data['loan'], normalize='index'))"
   ]
  },
  {
   "attachments": {},
   "cell_type": "markdown",
   "metadata": {},
   "source": [
    "## Categorical Variable Analysis"
   ]
  },
  {
   "cell_type": "code",
   "execution_count": 87,
   "metadata": {},
   "outputs": [
    {
     "data": {
      "text/html": [
       "<div>\n",
       "<style scoped>\n",
       "    .dataframe tbody tr th:only-of-type {\n",
       "        vertical-align: middle;\n",
       "    }\n",
       "\n",
       "    .dataframe tbody tr th {\n",
       "        vertical-align: top;\n",
       "    }\n",
       "\n",
       "    .dataframe thead th {\n",
       "        text-align: right;\n",
       "    }\n",
       "</style>\n",
       "<table border=\"1\" class=\"dataframe\">\n",
       "  <thead>\n",
       "    <tr style=\"text-align: right;\">\n",
       "      <th></th>\n",
       "      <th>job</th>\n",
       "      <th>marital</th>\n",
       "      <th>education</th>\n",
       "      <th>default</th>\n",
       "      <th>housing</th>\n",
       "      <th>loan</th>\n",
       "      <th>contact</th>\n",
       "      <th>month</th>\n",
       "      <th>poutcome</th>\n",
       "      <th>y</th>\n",
       "      <th>age_cat</th>\n",
       "      <th>balance_cat</th>\n",
       "    </tr>\n",
       "  </thead>\n",
       "  <tbody>\n",
       "    <tr>\n",
       "      <th>0</th>\n",
       "      <td>management</td>\n",
       "      <td>married</td>\n",
       "      <td>tertiary</td>\n",
       "      <td>no</td>\n",
       "      <td>yes</td>\n",
       "      <td>no</td>\n",
       "      <td>unknown</td>\n",
       "      <td>may</td>\n",
       "      <td>unknown</td>\n",
       "      <td>no</td>\n",
       "      <td>Senior_Adult</td>\n",
       "      <td>Positive</td>\n",
       "    </tr>\n",
       "    <tr>\n",
       "      <th>1</th>\n",
       "      <td>technician</td>\n",
       "      <td>single</td>\n",
       "      <td>secondary</td>\n",
       "      <td>no</td>\n",
       "      <td>yes</td>\n",
       "      <td>no</td>\n",
       "      <td>unknown</td>\n",
       "      <td>may</td>\n",
       "      <td>unknown</td>\n",
       "      <td>no</td>\n",
       "      <td>Adult</td>\n",
       "      <td>Positive</td>\n",
       "    </tr>\n",
       "    <tr>\n",
       "      <th>2</th>\n",
       "      <td>entrepreneur</td>\n",
       "      <td>married</td>\n",
       "      <td>secondary</td>\n",
       "      <td>no</td>\n",
       "      <td>yes</td>\n",
       "      <td>yes</td>\n",
       "      <td>unknown</td>\n",
       "      <td>may</td>\n",
       "      <td>unknown</td>\n",
       "      <td>no</td>\n",
       "      <td>Adult</td>\n",
       "      <td>Positive</td>\n",
       "    </tr>\n",
       "    <tr>\n",
       "      <th>3</th>\n",
       "      <td>blue-collar</td>\n",
       "      <td>married</td>\n",
       "      <td>unknown</td>\n",
       "      <td>no</td>\n",
       "      <td>yes</td>\n",
       "      <td>no</td>\n",
       "      <td>unknown</td>\n",
       "      <td>may</td>\n",
       "      <td>unknown</td>\n",
       "      <td>no</td>\n",
       "      <td>Adult</td>\n",
       "      <td>Positive</td>\n",
       "    </tr>\n",
       "    <tr>\n",
       "      <th>4</th>\n",
       "      <td>unknown</td>\n",
       "      <td>single</td>\n",
       "      <td>unknown</td>\n",
       "      <td>no</td>\n",
       "      <td>no</td>\n",
       "      <td>no</td>\n",
       "      <td>unknown</td>\n",
       "      <td>may</td>\n",
       "      <td>unknown</td>\n",
       "      <td>no</td>\n",
       "      <td>Adult</td>\n",
       "      <td>Positive</td>\n",
       "    </tr>\n",
       "    <tr>\n",
       "      <th>...</th>\n",
       "      <td>...</td>\n",
       "      <td>...</td>\n",
       "      <td>...</td>\n",
       "      <td>...</td>\n",
       "      <td>...</td>\n",
       "      <td>...</td>\n",
       "      <td>...</td>\n",
       "      <td>...</td>\n",
       "      <td>...</td>\n",
       "      <td>...</td>\n",
       "      <td>...</td>\n",
       "      <td>...</td>\n",
       "    </tr>\n",
       "    <tr>\n",
       "      <th>45206</th>\n",
       "      <td>technician</td>\n",
       "      <td>married</td>\n",
       "      <td>tertiary</td>\n",
       "      <td>no</td>\n",
       "      <td>no</td>\n",
       "      <td>no</td>\n",
       "      <td>cellular</td>\n",
       "      <td>nov</td>\n",
       "      <td>unknown</td>\n",
       "      <td>yes</td>\n",
       "      <td>Adult</td>\n",
       "      <td>Positive</td>\n",
       "    </tr>\n",
       "    <tr>\n",
       "      <th>45207</th>\n",
       "      <td>retired</td>\n",
       "      <td>divorced</td>\n",
       "      <td>primary</td>\n",
       "      <td>no</td>\n",
       "      <td>no</td>\n",
       "      <td>no</td>\n",
       "      <td>cellular</td>\n",
       "      <td>nov</td>\n",
       "      <td>unknown</td>\n",
       "      <td>yes</td>\n",
       "      <td>Senior_Adult</td>\n",
       "      <td>Positive</td>\n",
       "    </tr>\n",
       "    <tr>\n",
       "      <th>45208</th>\n",
       "      <td>retired</td>\n",
       "      <td>married</td>\n",
       "      <td>secondary</td>\n",
       "      <td>no</td>\n",
       "      <td>no</td>\n",
       "      <td>no</td>\n",
       "      <td>cellular</td>\n",
       "      <td>nov</td>\n",
       "      <td>success</td>\n",
       "      <td>yes</td>\n",
       "      <td>Senior_Adult</td>\n",
       "      <td>Positive</td>\n",
       "    </tr>\n",
       "    <tr>\n",
       "      <th>45209</th>\n",
       "      <td>blue-collar</td>\n",
       "      <td>married</td>\n",
       "      <td>secondary</td>\n",
       "      <td>no</td>\n",
       "      <td>no</td>\n",
       "      <td>no</td>\n",
       "      <td>telephone</td>\n",
       "      <td>nov</td>\n",
       "      <td>unknown</td>\n",
       "      <td>no</td>\n",
       "      <td>Senior_Adult</td>\n",
       "      <td>Positive</td>\n",
       "    </tr>\n",
       "    <tr>\n",
       "      <th>45210</th>\n",
       "      <td>entrepreneur</td>\n",
       "      <td>married</td>\n",
       "      <td>secondary</td>\n",
       "      <td>no</td>\n",
       "      <td>no</td>\n",
       "      <td>no</td>\n",
       "      <td>cellular</td>\n",
       "      <td>nov</td>\n",
       "      <td>other</td>\n",
       "      <td>no</td>\n",
       "      <td>Adult</td>\n",
       "      <td>Positive</td>\n",
       "    </tr>\n",
       "  </tbody>\n",
       "</table>\n",
       "<p>45211 rows × 12 columns</p>\n",
       "</div>"
      ],
      "text/plain": [
       "                job   marital  education default housing loan    contact  \\\n",
       "0        management   married   tertiary      no     yes   no    unknown   \n",
       "1        technician    single  secondary      no     yes   no    unknown   \n",
       "2      entrepreneur   married  secondary      no     yes  yes    unknown   \n",
       "3       blue-collar   married    unknown      no     yes   no    unknown   \n",
       "4           unknown    single    unknown      no      no   no    unknown   \n",
       "...             ...       ...        ...     ...     ...  ...        ...   \n",
       "45206    technician   married   tertiary      no      no   no   cellular   \n",
       "45207       retired  divorced    primary      no      no   no   cellular   \n",
       "45208       retired   married  secondary      no      no   no   cellular   \n",
       "45209   blue-collar   married  secondary      no      no   no  telephone   \n",
       "45210  entrepreneur   married  secondary      no      no   no   cellular   \n",
       "\n",
       "      month poutcome    y       age_cat balance_cat  \n",
       "0       may  unknown   no  Senior_Adult    Positive  \n",
       "1       may  unknown   no         Adult    Positive  \n",
       "2       may  unknown   no         Adult    Positive  \n",
       "3       may  unknown   no         Adult    Positive  \n",
       "4       may  unknown   no         Adult    Positive  \n",
       "...     ...      ...  ...           ...         ...  \n",
       "45206   nov  unknown  yes         Adult    Positive  \n",
       "45207   nov  unknown  yes  Senior_Adult    Positive  \n",
       "45208   nov  success  yes  Senior_Adult    Positive  \n",
       "45209   nov  unknown   no  Senior_Adult    Positive  \n",
       "45210   nov    other   no         Adult    Positive  \n",
       "\n",
       "[45211 rows x 12 columns]"
      ]
     },
     "execution_count": 87,
     "metadata": {},
     "output_type": "execute_result"
    }
   ],
   "source": [
    "train_data.select_dtypes(include='object')"
   ]
  },
  {
   "attachments": {},
   "cell_type": "markdown",
   "metadata": {},
   "source": [
    "#### Job: job_cat\n",
    "* blue-collar = (blue-collar, technician, services, housemaid)\n",
    "* admin = (admin, management)\n",
    "* unemployed/retired = (unemployed, retired, unknown)\n",
    "* self-employed = (self-employed, entrepreneur) \n",
    "* student = (student)"
   ]
  },
  {
   "cell_type": "code",
   "execution_count": 88,
   "metadata": {},
   "outputs": [
    {
     "data": {
      "text/plain": [
       "Blue_Collar           22723\n",
       "Administration        14629\n",
       "Unemployed/Retired     3855\n",
       "Self-Employed          3066\n",
       "Student                 938\n",
       "Name: job_cat, dtype: int64"
      ]
     },
     "metadata": {},
     "output_type": "display_data"
    },
    {
     "data": {
      "text/html": [
       "<div>\n",
       "<style scoped>\n",
       "    .dataframe tbody tr th:only-of-type {\n",
       "        vertical-align: middle;\n",
       "    }\n",
       "\n",
       "    .dataframe tbody tr th {\n",
       "        vertical-align: top;\n",
       "    }\n",
       "\n",
       "    .dataframe thead th {\n",
       "        text-align: right;\n",
       "    }\n",
       "</style>\n",
       "<table border=\"1\" class=\"dataframe\">\n",
       "  <thead>\n",
       "    <tr style=\"text-align: right;\">\n",
       "      <th>loan</th>\n",
       "      <th>no</th>\n",
       "      <th>yes</th>\n",
       "    </tr>\n",
       "    <tr>\n",
       "      <th>job_cat</th>\n",
       "      <th></th>\n",
       "      <th></th>\n",
       "    </tr>\n",
       "  </thead>\n",
       "  <tbody>\n",
       "    <tr>\n",
       "      <th>Administration</th>\n",
       "      <td>0.846606</td>\n",
       "      <td>0.153394</td>\n",
       "    </tr>\n",
       "    <tr>\n",
       "      <th>Blue_Collar</th>\n",
       "      <td>0.824803</td>\n",
       "      <td>0.175197</td>\n",
       "    </tr>\n",
       "    <tr>\n",
       "      <th>Self-Employed</th>\n",
       "      <td>0.809198</td>\n",
       "      <td>0.190802</td>\n",
       "    </tr>\n",
       "    <tr>\n",
       "      <th>Student</th>\n",
       "      <td>0.987207</td>\n",
       "      <td>0.012793</td>\n",
       "    </tr>\n",
       "    <tr>\n",
       "      <th>Unemployed/Retired</th>\n",
       "      <td>0.890532</td>\n",
       "      <td>0.109468</td>\n",
       "    </tr>\n",
       "  </tbody>\n",
       "</table>\n",
       "</div>"
      ],
      "text/plain": [
       "loan                      no       yes\n",
       "job_cat                               \n",
       "Administration      0.846606  0.153394\n",
       "Blue_Collar         0.824803  0.175197\n",
       "Self-Employed       0.809198  0.190802\n",
       "Student             0.987207  0.012793\n",
       "Unemployed/Retired  0.890532  0.109468"
      ]
     },
     "metadata": {},
     "output_type": "display_data"
    }
   ],
   "source": [
    "def job_conv(job):\n",
    "    b_collar = ['blue-collar', 'technician', 'services', 'housemaid']\n",
    "    admin = ['admin.', 'management']\n",
    "    unemploy = ['unemployed', 'retired', 'unknown']\n",
    "    self_empl = ['self-employed', 'entrepreneur']\n",
    "    student = ['student']\n",
    "\n",
    "    if job in b_collar:\n",
    "        return 'Blue_Collar'\n",
    "    elif job in admin:\n",
    "        return 'Administration'\n",
    "    elif job in unemploy:\n",
    "        return 'Unemployed/Retired'\n",
    "    elif job in self_empl:\n",
    "        return 'Self-Employed'\n",
    "    elif job in student:\n",
    "        return 'Student'\n",
    "    else:\n",
    "        'Invalid Category'\n",
    "\n",
    "\n",
    "train_data['job_cat'] = train_data['job'].apply(job_conv)\n",
    "\n",
    "test_data['job_cat'] = test_data['job'].apply(job_conv)\n",
    "\n",
    "display(train_data['job_cat'].value_counts())\n",
    "\n",
    "display(pd.crosstab(train_data['job_cat'], train_data['loan'], normalize='index'))"
   ]
  },
  {
   "attachments": {},
   "cell_type": "markdown",
   "metadata": {},
   "source": [
    "### Active Loan Analysis: Crosstabs"
   ]
  },
  {
   "cell_type": "code",
   "execution_count": 89,
   "metadata": {},
   "outputs": [
    {
     "data": {
      "text/plain": [
       "no     37967\n",
       "yes     7244\n",
       "Name: loan, dtype: int64"
      ]
     },
     "metadata": {},
     "output_type": "display_data"
    },
    {
     "data": {
      "text/plain": [
       "no     83.98\n",
       "yes    16.02\n",
       "Name: loan, dtype: float64"
      ]
     },
     "execution_count": 89,
     "metadata": {},
     "output_type": "execute_result"
    }
   ],
   "source": [
    "display(train_data['loan'].value_counts())\n",
    "\n",
    "round((train_data['loan'].value_counts(normalize=True)) * 100, 2)"
   ]
  },
  {
   "cell_type": "code",
   "execution_count": 90,
   "metadata": {},
   "outputs": [
    {
     "name": "stdout",
     "output_type": "stream",
     "text": [
      "MARITAL vs Loan Crosstab\n"
     ]
    },
    {
     "data": {
      "text/html": [
       "<div>\n",
       "<style scoped>\n",
       "    .dataframe tbody tr th:only-of-type {\n",
       "        vertical-align: middle;\n",
       "    }\n",
       "\n",
       "    .dataframe tbody tr th {\n",
       "        vertical-align: top;\n",
       "    }\n",
       "\n",
       "    .dataframe thead th {\n",
       "        text-align: right;\n",
       "    }\n",
       "</style>\n",
       "<table border=\"1\" class=\"dataframe\">\n",
       "  <thead>\n",
       "    <tr style=\"text-align: right;\">\n",
       "      <th>loan</th>\n",
       "      <th>no</th>\n",
       "      <th>yes</th>\n",
       "    </tr>\n",
       "    <tr>\n",
       "      <th>marital</th>\n",
       "      <th></th>\n",
       "      <th></th>\n",
       "    </tr>\n",
       "  </thead>\n",
       "  <tbody>\n",
       "    <tr>\n",
       "      <th>divorced</th>\n",
       "      <td>0.823123</td>\n",
       "      <td>0.176877</td>\n",
       "    </tr>\n",
       "    <tr>\n",
       "      <th>married</th>\n",
       "      <td>0.828765</td>\n",
       "      <td>0.171235</td>\n",
       "    </tr>\n",
       "    <tr>\n",
       "      <th>single</th>\n",
       "      <td>0.869977</td>\n",
       "      <td>0.130023</td>\n",
       "    </tr>\n",
       "  </tbody>\n",
       "</table>\n",
       "</div>"
      ],
      "text/plain": [
       "loan            no       yes\n",
       "marital                     \n",
       "divorced  0.823123  0.176877\n",
       "married   0.828765  0.171235\n",
       "single    0.869977  0.130023"
      ]
     },
     "metadata": {},
     "output_type": "display_data"
    },
    {
     "name": "stdout",
     "output_type": "stream",
     "text": [
      "EDUCATION vs Loan Crosstab\n"
     ]
    },
    {
     "data": {
      "text/html": [
       "<div>\n",
       "<style scoped>\n",
       "    .dataframe tbody tr th:only-of-type {\n",
       "        vertical-align: middle;\n",
       "    }\n",
       "\n",
       "    .dataframe tbody tr th {\n",
       "        vertical-align: top;\n",
       "    }\n",
       "\n",
       "    .dataframe thead th {\n",
       "        text-align: right;\n",
       "    }\n",
       "</style>\n",
       "<table border=\"1\" class=\"dataframe\">\n",
       "  <thead>\n",
       "    <tr style=\"text-align: right;\">\n",
       "      <th>loan</th>\n",
       "      <th>no</th>\n",
       "      <th>yes</th>\n",
       "    </tr>\n",
       "    <tr>\n",
       "      <th>education</th>\n",
       "      <th></th>\n",
       "      <th></th>\n",
       "    </tr>\n",
       "  </thead>\n",
       "  <tbody>\n",
       "    <tr>\n",
       "      <th>primary</th>\n",
       "      <td>0.850533</td>\n",
       "      <td>0.149467</td>\n",
       "    </tr>\n",
       "    <tr>\n",
       "      <th>secondary</th>\n",
       "      <td>0.814542</td>\n",
       "      <td>0.185458</td>\n",
       "    </tr>\n",
       "    <tr>\n",
       "      <th>tertiary</th>\n",
       "      <td>0.865875</td>\n",
       "      <td>0.134125</td>\n",
       "    </tr>\n",
       "    <tr>\n",
       "      <th>unknown</th>\n",
       "      <td>0.928379</td>\n",
       "      <td>0.071621</td>\n",
       "    </tr>\n",
       "  </tbody>\n",
       "</table>\n",
       "</div>"
      ],
      "text/plain": [
       "loan             no       yes\n",
       "education                    \n",
       "primary    0.850533  0.149467\n",
       "secondary  0.814542  0.185458\n",
       "tertiary   0.865875  0.134125\n",
       "unknown    0.928379  0.071621"
      ]
     },
     "metadata": {},
     "output_type": "display_data"
    },
    {
     "name": "stdout",
     "output_type": "stream",
     "text": [
      "HOUSING vs Loan Crosstab\n"
     ]
    },
    {
     "data": {
      "text/html": [
       "<div>\n",
       "<style scoped>\n",
       "    .dataframe tbody tr th:only-of-type {\n",
       "        vertical-align: middle;\n",
       "    }\n",
       "\n",
       "    .dataframe tbody tr th {\n",
       "        vertical-align: top;\n",
       "    }\n",
       "\n",
       "    .dataframe thead th {\n",
       "        text-align: right;\n",
       "    }\n",
       "</style>\n",
       "<table border=\"1\" class=\"dataframe\">\n",
       "  <thead>\n",
       "    <tr style=\"text-align: right;\">\n",
       "      <th>loan</th>\n",
       "      <th>no</th>\n",
       "      <th>yes</th>\n",
       "    </tr>\n",
       "    <tr>\n",
       "      <th>housing</th>\n",
       "      <th></th>\n",
       "      <th></th>\n",
       "    </tr>\n",
       "  </thead>\n",
       "  <tbody>\n",
       "    <tr>\n",
       "      <th>no</th>\n",
       "      <td>0.856730</td>\n",
       "      <td>0.143270</td>\n",
       "    </tr>\n",
       "    <tr>\n",
       "      <th>yes</th>\n",
       "      <td>0.826224</td>\n",
       "      <td>0.173776</td>\n",
       "    </tr>\n",
       "  </tbody>\n",
       "</table>\n",
       "</div>"
      ],
      "text/plain": [
       "loan           no       yes\n",
       "housing                    \n",
       "no       0.856730  0.143270\n",
       "yes      0.826224  0.173776"
      ]
     },
     "metadata": {},
     "output_type": "display_data"
    },
    {
     "name": "stdout",
     "output_type": "stream",
     "text": [
      "DEFAULT vs Loan Crosstab\n"
     ]
    },
    {
     "data": {
      "text/html": [
       "<div>\n",
       "<style scoped>\n",
       "    .dataframe tbody tr th:only-of-type {\n",
       "        vertical-align: middle;\n",
       "    }\n",
       "\n",
       "    .dataframe tbody tr th {\n",
       "        vertical-align: top;\n",
       "    }\n",
       "\n",
       "    .dataframe thead th {\n",
       "        text-align: right;\n",
       "    }\n",
       "</style>\n",
       "<table border=\"1\" class=\"dataframe\">\n",
       "  <thead>\n",
       "    <tr style=\"text-align: right;\">\n",
       "      <th>loan</th>\n",
       "      <th>no</th>\n",
       "      <th>yes</th>\n",
       "    </tr>\n",
       "    <tr>\n",
       "      <th>default</th>\n",
       "      <th></th>\n",
       "      <th></th>\n",
       "    </tr>\n",
       "  </thead>\n",
       "  <tbody>\n",
       "    <tr>\n",
       "      <th>no</th>\n",
       "      <td>0.843612</td>\n",
       "      <td>0.156388</td>\n",
       "    </tr>\n",
       "    <tr>\n",
       "      <th>yes</th>\n",
       "      <td>0.630675</td>\n",
       "      <td>0.369325</td>\n",
       "    </tr>\n",
       "  </tbody>\n",
       "</table>\n",
       "</div>"
      ],
      "text/plain": [
       "loan           no       yes\n",
       "default                    \n",
       "no       0.843612  0.156388\n",
       "yes      0.630675  0.369325"
      ]
     },
     "metadata": {},
     "output_type": "display_data"
    },
    {
     "name": "stdout",
     "output_type": "stream",
     "text": [
      "BALANCE_CAT vs Loan Crosstab\n"
     ]
    },
    {
     "data": {
      "text/html": [
       "<div>\n",
       "<style scoped>\n",
       "    .dataframe tbody tr th:only-of-type {\n",
       "        vertical-align: middle;\n",
       "    }\n",
       "\n",
       "    .dataframe tbody tr th {\n",
       "        vertical-align: top;\n",
       "    }\n",
       "\n",
       "    .dataframe thead th {\n",
       "        text-align: right;\n",
       "    }\n",
       "</style>\n",
       "<table border=\"1\" class=\"dataframe\">\n",
       "  <thead>\n",
       "    <tr style=\"text-align: right;\">\n",
       "      <th>loan</th>\n",
       "      <th>no</th>\n",
       "      <th>yes</th>\n",
       "    </tr>\n",
       "    <tr>\n",
       "      <th>balance_cat</th>\n",
       "      <th></th>\n",
       "      <th></th>\n",
       "    </tr>\n",
       "  </thead>\n",
       "  <tbody>\n",
       "    <tr>\n",
       "      <th>Negative</th>\n",
       "      <td>0.678704</td>\n",
       "      <td>0.321296</td>\n",
       "    </tr>\n",
       "    <tr>\n",
       "      <th>Positive</th>\n",
       "      <td>0.854409</td>\n",
       "      <td>0.145591</td>\n",
       "    </tr>\n",
       "  </tbody>\n",
       "</table>\n",
       "</div>"
      ],
      "text/plain": [
       "loan               no       yes\n",
       "balance_cat                    \n",
       "Negative     0.678704  0.321296\n",
       "Positive     0.854409  0.145591"
      ]
     },
     "metadata": {},
     "output_type": "display_data"
    },
    {
     "name": "stdout",
     "output_type": "stream",
     "text": [
      "AGE_CAT vs Loan Crosstab\n"
     ]
    },
    {
     "data": {
      "text/html": [
       "<div>\n",
       "<style scoped>\n",
       "    .dataframe tbody tr th:only-of-type {\n",
       "        vertical-align: middle;\n",
       "    }\n",
       "\n",
       "    .dataframe tbody tr th {\n",
       "        vertical-align: top;\n",
       "    }\n",
       "\n",
       "    .dataframe thead th {\n",
       "        text-align: right;\n",
       "    }\n",
       "</style>\n",
       "<table border=\"1\" class=\"dataframe\">\n",
       "  <thead>\n",
       "    <tr style=\"text-align: right;\">\n",
       "      <th>loan</th>\n",
       "      <th>no</th>\n",
       "      <th>yes</th>\n",
       "    </tr>\n",
       "    <tr>\n",
       "      <th>age_cat</th>\n",
       "      <th></th>\n",
       "      <th></th>\n",
       "    </tr>\n",
       "  </thead>\n",
       "  <tbody>\n",
       "    <tr>\n",
       "      <th>Adult</th>\n",
       "      <td>0.834920</td>\n",
       "      <td>0.165080</td>\n",
       "    </tr>\n",
       "    <tr>\n",
       "      <th>Senior_Adult</th>\n",
       "      <td>0.871224</td>\n",
       "      <td>0.128776</td>\n",
       "    </tr>\n",
       "    <tr>\n",
       "      <th>Young_Adult</th>\n",
       "      <td>0.866018</td>\n",
       "      <td>0.133982</td>\n",
       "    </tr>\n",
       "  </tbody>\n",
       "</table>\n",
       "</div>"
      ],
      "text/plain": [
       "loan                no       yes\n",
       "age_cat                         \n",
       "Adult         0.834920  0.165080\n",
       "Senior_Adult  0.871224  0.128776\n",
       "Young_Adult   0.866018  0.133982"
      ]
     },
     "metadata": {},
     "output_type": "display_data"
    },
    {
     "name": "stdout",
     "output_type": "stream",
     "text": [
      "JOB_CAT vs Loan Crosstab\n"
     ]
    },
    {
     "data": {
      "text/html": [
       "<div>\n",
       "<style scoped>\n",
       "    .dataframe tbody tr th:only-of-type {\n",
       "        vertical-align: middle;\n",
       "    }\n",
       "\n",
       "    .dataframe tbody tr th {\n",
       "        vertical-align: top;\n",
       "    }\n",
       "\n",
       "    .dataframe thead th {\n",
       "        text-align: right;\n",
       "    }\n",
       "</style>\n",
       "<table border=\"1\" class=\"dataframe\">\n",
       "  <thead>\n",
       "    <tr style=\"text-align: right;\">\n",
       "      <th>loan</th>\n",
       "      <th>no</th>\n",
       "      <th>yes</th>\n",
       "    </tr>\n",
       "    <tr>\n",
       "      <th>job_cat</th>\n",
       "      <th></th>\n",
       "      <th></th>\n",
       "    </tr>\n",
       "  </thead>\n",
       "  <tbody>\n",
       "    <tr>\n",
       "      <th>Administration</th>\n",
       "      <td>0.846606</td>\n",
       "      <td>0.153394</td>\n",
       "    </tr>\n",
       "    <tr>\n",
       "      <th>Blue_Collar</th>\n",
       "      <td>0.824803</td>\n",
       "      <td>0.175197</td>\n",
       "    </tr>\n",
       "    <tr>\n",
       "      <th>Self-Employed</th>\n",
       "      <td>0.809198</td>\n",
       "      <td>0.190802</td>\n",
       "    </tr>\n",
       "    <tr>\n",
       "      <th>Student</th>\n",
       "      <td>0.987207</td>\n",
       "      <td>0.012793</td>\n",
       "    </tr>\n",
       "    <tr>\n",
       "      <th>Unemployed/Retired</th>\n",
       "      <td>0.890532</td>\n",
       "      <td>0.109468</td>\n",
       "    </tr>\n",
       "  </tbody>\n",
       "</table>\n",
       "</div>"
      ],
      "text/plain": [
       "loan                      no       yes\n",
       "job_cat                               \n",
       "Administration      0.846606  0.153394\n",
       "Blue_Collar         0.824803  0.175197\n",
       "Self-Employed       0.809198  0.190802\n",
       "Student             0.987207  0.012793\n",
       "Unemployed/Retired  0.890532  0.109468"
      ]
     },
     "metadata": {},
     "output_type": "display_data"
    }
   ],
   "source": [
    "cat_vars = ['marital', 'education', 'housing', 'default', 'balance_cat', 'age_cat', 'job_cat']\n",
    "\n",
    "for var in cat_vars:\n",
    "    print(f'{var.upper()} vs Loan Crosstab')\n",
    "    display(pd.crosstab(train_data[var], train_data['loan'], normalize='index'))"
   ]
  },
  {
   "attachments": {},
   "cell_type": "markdown",
   "metadata": {},
   "source": [
    "## Loan Analysis: Logistic Regression"
   ]
  },
  {
   "attachments": {},
   "cell_type": "markdown",
   "metadata": {},
   "source": [
    "#### Education vs Loan"
   ]
  },
  {
   "cell_type": "code",
   "execution_count": 91,
   "metadata": {},
   "outputs": [
    {
     "name": "stdout",
     "output_type": "stream",
     "text": [
      "Optimization terminated successfully.\n",
      "         Current function value: 0.436576\n",
      "         Iterations 7\n"
     ]
    },
    {
     "data": {
      "text/html": [
       "<table class=\"simpletable\">\n",
       "<caption>Logit Regression Results</caption>\n",
       "<tr>\n",
       "  <th>Dep. Variable:</th>         <td>loan</td>       <th>  No. Observations:  </th>  <td> 45211</td>  \n",
       "</tr>\n",
       "<tr>\n",
       "  <th>Model:</th>                 <td>Logit</td>      <th>  Df Residuals:      </th>  <td> 45207</td>  \n",
       "</tr>\n",
       "<tr>\n",
       "  <th>Method:</th>                 <td>MLE</td>       <th>  Df Model:          </th>  <td>     3</td>  \n",
       "</tr>\n",
       "<tr>\n",
       "  <th>Date:</th>            <td>Fri, 26 May 2023</td> <th>  Pseudo R-squ.:     </th> <td>0.007885</td> \n",
       "</tr>\n",
       "<tr>\n",
       "  <th>Time:</th>                <td>17:01:10</td>     <th>  Log-Likelihood:    </th> <td> -19738.</td> \n",
       "</tr>\n",
       "<tr>\n",
       "  <th>converged:</th>             <td>True</td>       <th>  LL-Null:           </th> <td> -19895.</td> \n",
       "</tr>\n",
       "<tr>\n",
       "  <th>Covariance Type:</th>     <td>nonrobust</td>    <th>  LLR p-value:       </th> <td>1.059e-67</td>\n",
       "</tr>\n",
       "</table>\n",
       "<table class=\"simpletable\">\n",
       "<tr>\n",
       "             <td></td>               <th>coef</th>     <th>std err</th>      <th>z</th>      <th>P>|z|</th>  <th>[0.025</th>    <th>0.975]</th>  \n",
       "</tr>\n",
       "<tr>\n",
       "  <th>Intercept</th>              <td>   -1.7388</td> <td>    0.034</td> <td>  -51.315</td> <td> 0.000</td> <td>   -1.805</td> <td>   -1.672</td>\n",
       "</tr>\n",
       "<tr>\n",
       "  <th>education[T.secondary]</th> <td>    0.2590</td> <td>    0.038</td> <td>    6.840</td> <td> 0.000</td> <td>    0.185</td> <td>    0.333</td>\n",
       "</tr>\n",
       "<tr>\n",
       "  <th>education[T.tertiary]</th>  <td>   -0.1262</td> <td>    0.042</td> <td>   -2.978</td> <td> 0.003</td> <td>   -0.209</td> <td>   -0.043</td>\n",
       "</tr>\n",
       "<tr>\n",
       "  <th>education[T.unknown]</th>   <td>   -0.8233</td> <td>    0.096</td> <td>   -8.561</td> <td> 0.000</td> <td>   -1.012</td> <td>   -0.635</td>\n",
       "</tr>\n",
       "</table>"
      ],
      "text/plain": [
       "<class 'statsmodels.iolib.summary.Summary'>\n",
       "\"\"\"\n",
       "                           Logit Regression Results                           \n",
       "==============================================================================\n",
       "Dep. Variable:                   loan   No. Observations:                45211\n",
       "Model:                          Logit   Df Residuals:                    45207\n",
       "Method:                           MLE   Df Model:                            3\n",
       "Date:                Fri, 26 May 2023   Pseudo R-squ.:                0.007885\n",
       "Time:                        17:01:10   Log-Likelihood:                -19738.\n",
       "converged:                       True   LL-Null:                       -19895.\n",
       "Covariance Type:            nonrobust   LLR p-value:                 1.059e-67\n",
       "==========================================================================================\n",
       "                             coef    std err          z      P>|z|      [0.025      0.975]\n",
       "------------------------------------------------------------------------------------------\n",
       "Intercept                 -1.7388      0.034    -51.315      0.000      -1.805      -1.672\n",
       "education[T.secondary]     0.2590      0.038      6.840      0.000       0.185       0.333\n",
       "education[T.tertiary]     -0.1262      0.042     -2.978      0.003      -0.209      -0.043\n",
       "education[T.unknown]      -0.8233      0.096     -8.561      0.000      -1.012      -0.635\n",
       "==========================================================================================\n",
       "\"\"\""
      ]
     },
     "execution_count": 91,
     "metadata": {},
     "output_type": "execute_result"
    }
   ],
   "source": [
    "from statsmodels.formula.api import logit\n",
    "\n",
    "\n",
    "train_data['loan'] = train_data['loan'].apply(lambda x: 1 if x == 'yes' else 0)\n",
    "test_data['loan'] = test_data['loan'].apply(lambda x: 1 if x == 'yes' else 0)\n",
    "\n",
    "\n",
    "model1L = logit(formula='loan ~ education', data=train_data).fit()\n",
    "\n",
    "model1L.summary()"
   ]
  },
  {
   "cell_type": "code",
   "execution_count": 92,
   "metadata": {},
   "outputs": [
    {
     "data": {
      "image/png": "[encoded data removed]",
      "text/plain": [
       "<Figure size 432x288 with 1 Axes>"
      ]
     },
     "metadata": {
      "needs_background": "light"
     },
     "output_type": "display_data"
    }
   ],
   "source": [
    "import matplotlib.pyplot as plt\n",
    "\n",
    "# Import Metrics package\n",
    "import sklearn.metrics as skm\n",
    "\n",
    "# Make predictions for Model #1L\n",
    "train_data['pred_1L'] = model1L.predict(train_data)\n",
    "\n",
    "# Generate fpr, tpr, and thresholds for ROC curve\n",
    "fpr, tpr, thresholds = skm.roc_curve(train_data['loan'], train_data['pred_1L'])\n",
    "\n",
    "\n",
    "# ROC Curve Plot Function\n",
    "def plot_roc(fpr,tpr, title):\n",
    "    \n",
    "    # AUC score\n",
    "    auc_score = skm.auc(fpr,tpr)\n",
    "    \n",
    "    # ROC curve\n",
    "    skm.RocCurveDisplay(fpr=fpr, tpr=tpr,\n",
    "                        roc_auc=auc_score,\n",
    "                        estimator_name='results').plot()\n",
    "    \n",
    "    # Add title to ROC curve\n",
    "    plt.title(title)\n",
    "    \n",
    "    # Add the diagonal line\n",
    "    plt.plot([0, 1], [0, 1], \n",
    "             color='orange', \n",
    "             linestyle='--')\n",
    "\n",
    "# Display ROC Curve w/ AUC Score: Model1L\n",
    "plot_roc(fpr,tpr, title='Model 1L')"
   ]
  },
  {
   "attachments": {},
   "cell_type": "markdown",
   "metadata": {},
   "source": [
    "#### "
   ]
  },
  {
   "attachments": {},
   "cell_type": "markdown",
   "metadata": {},
   "source": [
    "#### Default vs Loan"
   ]
  },
  {
   "cell_type": "code",
   "execution_count": 93,
   "metadata": {},
   "outputs": [
    {
     "name": "stdout",
     "output_type": "stream",
     "text": [
      "Optimization terminated successfully.\n",
      "         Current function value: 0.437687\n",
      "         Iterations 6\n"
     ]
    },
    {
     "data": {
      "text/html": [
       "<table class=\"simpletable\">\n",
       "<caption>Logit Regression Results</caption>\n",
       "<tr>\n",
       "  <th>Dep. Variable:</th>         <td>loan</td>       <th>  No. Observations:  </th>  <td> 45211</td>  \n",
       "</tr>\n",
       "<tr>\n",
       "  <th>Model:</th>                 <td>Logit</td>      <th>  Df Residuals:      </th>  <td> 45209</td>  \n",
       "</tr>\n",
       "<tr>\n",
       "  <th>Method:</th>                 <td>MLE</td>       <th>  Df Model:          </th>  <td>     1</td>  \n",
       "</tr>\n",
       "<tr>\n",
       "  <th>Date:</th>            <td>Fri, 26 May 2023</td> <th>  Pseudo R-squ.:     </th> <td>0.005360</td> \n",
       "</tr>\n",
       "<tr>\n",
       "  <th>Time:</th>                <td>17:01:11</td>     <th>  Log-Likelihood:    </th> <td> -19788.</td> \n",
       "</tr>\n",
       "<tr>\n",
       "  <th>converged:</th>             <td>True</td>       <th>  LL-Null:           </th> <td> -19895.</td> \n",
       "</tr>\n",
       "<tr>\n",
       "  <th>Covariance Type:</th>     <td>nonrobust</td>    <th>  LLR p-value:       </th> <td>2.674e-48</td>\n",
       "</tr>\n",
       "</table>\n",
       "<table class=\"simpletable\">\n",
       "<tr>\n",
       "         <td></td>           <th>coef</th>     <th>std err</th>      <th>z</th>      <th>P>|z|</th>  <th>[0.025</th>    <th>0.975]</th>  \n",
       "</tr>\n",
       "<tr>\n",
       "  <th>Intercept</th>      <td>   -1.6854</td> <td>    0.013</td> <td> -128.984</td> <td> 0.000</td> <td>   -1.711</td> <td>   -1.660</td>\n",
       "</tr>\n",
       "<tr>\n",
       "  <th>default[T.yes]</th> <td>    1.1502</td> <td>    0.074</td> <td>   15.597</td> <td> 0.000</td> <td>    1.006</td> <td>    1.295</td>\n",
       "</tr>\n",
       "</table>"
      ],
      "text/plain": [
       "<class 'statsmodels.iolib.summary.Summary'>\n",
       "\"\"\"\n",
       "                           Logit Regression Results                           \n",
       "==============================================================================\n",
       "Dep. Variable:                   loan   No. Observations:                45211\n",
       "Model:                          Logit   Df Residuals:                    45209\n",
       "Method:                           MLE   Df Model:                            1\n",
       "Date:                Fri, 26 May 2023   Pseudo R-squ.:                0.005360\n",
       "Time:                        17:01:11   Log-Likelihood:                -19788.\n",
       "converged:                       True   LL-Null:                       -19895.\n",
       "Covariance Type:            nonrobust   LLR p-value:                 2.674e-48\n",
       "==================================================================================\n",
       "                     coef    std err          z      P>|z|      [0.025      0.975]\n",
       "----------------------------------------------------------------------------------\n",
       "Intercept         -1.6854      0.013   -128.984      0.000      -1.711      -1.660\n",
       "default[T.yes]     1.1502      0.074     15.597      0.000       1.006       1.295\n",
       "==================================================================================\n",
       "\"\"\""
      ]
     },
     "execution_count": 93,
     "metadata": {},
     "output_type": "execute_result"
    }
   ],
   "source": [
    "model2L = logit(formula='loan ~ default', data=train_data).fit()\n",
    "\n",
    "model2L.summary()"
   ]
  },
  {
   "cell_type": "code",
   "execution_count": 94,
   "metadata": {},
   "outputs": [
    {
     "data": {
      "image/png": "[encoded data removed]",
      "text/plain": [
       "<Figure size 432x288 with 1 Axes>"
      ]
     },
     "metadata": {
      "needs_background": "light"
     },
     "output_type": "display_data"
    }
   ],
   "source": [
    "# Make predictions for Model #2L\n",
    "train_data['pred_2L'] = model2L.predict(train_data)\n",
    "\n",
    "# Generate fpr, tpr, and thresholds for ROC curve\n",
    "fpr, tpr, thresholds = skm.roc_curve(train_data['loan'], train_data['pred_2L'])\n",
    "\n",
    "# Display ROC Curve w/ AUC Score: Model2L\n",
    "plot_roc(fpr,tpr, title='Model 2L')"
   ]
  },
  {
   "attachments": {},
   "cell_type": "markdown",
   "metadata": {},
   "source": [
    "#### Balance Category vs loan"
   ]
  },
  {
   "cell_type": "code",
   "execution_count": 95,
   "metadata": {},
   "outputs": [
    {
     "name": "stdout",
     "output_type": "stream",
     "text": [
      "Optimization terminated successfully.\n",
      "         Current function value: 0.432714\n",
      "         Iterations 6\n"
     ]
    },
    {
     "data": {
      "text/html": [
       "<table class=\"simpletable\">\n",
       "<caption>Logit Regression Results</caption>\n",
       "<tr>\n",
       "  <th>Dep. Variable:</th>         <td>loan</td>       <th>  No. Observations:  </th>   <td> 45211</td>  \n",
       "</tr>\n",
       "<tr>\n",
       "  <th>Model:</th>                 <td>Logit</td>      <th>  Df Residuals:      </th>   <td> 45209</td>  \n",
       "</tr>\n",
       "<tr>\n",
       "  <th>Method:</th>                 <td>MLE</td>       <th>  Df Model:          </th>   <td>     1</td>  \n",
       "</tr>\n",
       "<tr>\n",
       "  <th>Date:</th>            <td>Fri, 26 May 2023</td> <th>  Pseudo R-squ.:     </th>   <td>0.01666</td> \n",
       "</tr>\n",
       "<tr>\n",
       "  <th>Time:</th>                <td>17:01:11</td>     <th>  Log-Likelihood:    </th>  <td> -19563.</td> \n",
       "</tr>\n",
       "<tr>\n",
       "  <th>converged:</th>             <td>True</td>       <th>  LL-Null:           </th>  <td> -19895.</td> \n",
       "</tr>\n",
       "<tr>\n",
       "  <th>Covariance Type:</th>     <td>nonrobust</td>    <th>  LLR p-value:       </th> <td>3.537e-146</td>\n",
       "</tr>\n",
       "</table>\n",
       "<table class=\"simpletable\">\n",
       "<tr>\n",
       "             <td></td>                <th>coef</th>     <th>std err</th>      <th>z</th>      <th>P>|z|</th>  <th>[0.025</th>    <th>0.975]</th>  \n",
       "</tr>\n",
       "<tr>\n",
       "  <th>Intercept</th>               <td>   -0.7478</td> <td>    0.035</td> <td>  -21.430</td> <td> 0.000</td> <td>   -0.816</td> <td>   -0.679</td>\n",
       "</tr>\n",
       "<tr>\n",
       "  <th>balance_cat[T.Positive]</th> <td>   -1.0218</td> <td>    0.038</td> <td>  -27.196</td> <td> 0.000</td> <td>   -1.095</td> <td>   -0.948</td>\n",
       "</tr>\n",
       "</table>"
      ],
      "text/plain": [
       "<class 'statsmodels.iolib.summary.Summary'>\n",
       "\"\"\"\n",
       "                           Logit Regression Results                           \n",
       "==============================================================================\n",
       "Dep. Variable:                   loan   No. Observations:                45211\n",
       "Model:                          Logit   Df Residuals:                    45209\n",
       "Method:                           MLE   Df Model:                            1\n",
       "Date:                Fri, 26 May 2023   Pseudo R-squ.:                 0.01666\n",
       "Time:                        17:01:11   Log-Likelihood:                -19563.\n",
       "converged:                       True   LL-Null:                       -19895.\n",
       "Covariance Type:            nonrobust   LLR p-value:                3.537e-146\n",
       "===========================================================================================\n",
       "                              coef    std err          z      P>|z|      [0.025      0.975]\n",
       "-------------------------------------------------------------------------------------------\n",
       "Intercept                  -0.7478      0.035    -21.430      0.000      -0.816      -0.679\n",
       "balance_cat[T.Positive]    -1.0218      0.038    -27.196      0.000      -1.095      -0.948\n",
       "===========================================================================================\n",
       "\"\"\""
      ]
     },
     "execution_count": 95,
     "metadata": {},
     "output_type": "execute_result"
    }
   ],
   "source": [
    "model3L = logit(formula='loan ~ balance_cat', data=train_data).fit()\n",
    "\n",
    "model3L.summary()"
   ]
  },
  {
   "cell_type": "code",
   "execution_count": 96,
   "metadata": {},
   "outputs": [
    {
     "data": {
      "image/png": "[encoded data removed]",
      "text/plain": [
       "<Figure size 432x288 with 1 Axes>"
      ]
     },
     "metadata": {
      "needs_background": "light"
     },
     "output_type": "display_data"
    }
   ],
   "source": [
    "# Make predictions for Model #3L\n",
    "train_data['pred_3L'] = model3L.predict(train_data)\n",
    "\n",
    "# Generate fpr, tpr, and thresholds for ROC curve\n",
    "fpr, tpr, thresholds = skm.roc_curve(train_data['loan'], train_data['pred_3L'])\n",
    "\n",
    "# Display ROC Curve w/ AUC Score: Model3L\n",
    "plot_roc(fpr,tpr, title='Model 3L')"
   ]
  },
  {
   "attachments": {},
   "cell_type": "markdown",
   "metadata": {},
   "source": [
    "#### Job Category vs Default"
   ]
  },
  {
   "cell_type": "code",
   "execution_count": 97,
   "metadata": {},
   "outputs": [
    {
     "name": "stdout",
     "output_type": "stream",
     "text": [
      "Optimization terminated successfully.\n",
      "         Current function value: 0.435813\n",
      "         Iterations 8\n"
     ]
    },
    {
     "data": {
      "text/html": [
       "<table class=\"simpletable\">\n",
       "<caption>Logit Regression Results</caption>\n",
       "<tr>\n",
       "  <th>Dep. Variable:</th>         <td>loan</td>       <th>  No. Observations:  </th>  <td> 45211</td>  \n",
       "</tr>\n",
       "<tr>\n",
       "  <th>Model:</th>                 <td>Logit</td>      <th>  Df Residuals:      </th>  <td> 45206</td>  \n",
       "</tr>\n",
       "<tr>\n",
       "  <th>Method:</th>                 <td>MLE</td>       <th>  Df Model:          </th>  <td>     4</td>  \n",
       "</tr>\n",
       "<tr>\n",
       "  <th>Date:</th>            <td>Fri, 26 May 2023</td> <th>  Pseudo R-squ.:     </th> <td>0.009618</td> \n",
       "</tr>\n",
       "<tr>\n",
       "  <th>Time:</th>                <td>17:01:12</td>     <th>  Log-Likelihood:    </th> <td> -19704.</td> \n",
       "</tr>\n",
       "<tr>\n",
       "  <th>converged:</th>             <td>True</td>       <th>  LL-Null:           </th> <td> -19895.</td> \n",
       "</tr>\n",
       "<tr>\n",
       "  <th>Covariance Type:</th>     <td>nonrobust</td>    <th>  LLR p-value:       </th> <td>1.531e-81</td>\n",
       "</tr>\n",
       "</table>\n",
       "<table class=\"simpletable\">\n",
       "<tr>\n",
       "                <td></td>                   <th>coef</th>     <th>std err</th>      <th>z</th>      <th>P>|z|</th>  <th>[0.025</th>    <th>0.975]</th>  \n",
       "</tr>\n",
       "<tr>\n",
       "  <th>Intercept</th>                     <td>   -1.7082</td> <td>    0.023</td> <td>  -74.456</td> <td> 0.000</td> <td>   -1.753</td> <td>   -1.663</td>\n",
       "</tr>\n",
       "<tr>\n",
       "  <th>job_cat[T.Blue_Collar]</th>        <td>    0.1590</td> <td>    0.029</td> <td>    5.516</td> <td> 0.000</td> <td>    0.102</td> <td>    0.215</td>\n",
       "</tr>\n",
       "<tr>\n",
       "  <th>job_cat[T.Self-Employed]</th>      <td>    0.2634</td> <td>    0.051</td> <td>    5.128</td> <td> 0.000</td> <td>    0.163</td> <td>    0.364</td>\n",
       "</tr>\n",
       "<tr>\n",
       "  <th>job_cat[T.Student]</th>            <td>   -2.6377</td> <td>    0.291</td> <td>   -9.051</td> <td> 0.000</td> <td>   -3.209</td> <td>   -2.067</td>\n",
       "</tr>\n",
       "<tr>\n",
       "  <th>job_cat[T.Unemployed/Retired]</th> <td>   -0.3880</td> <td>    0.056</td> <td>   -6.872</td> <td> 0.000</td> <td>   -0.499</td> <td>   -0.277</td>\n",
       "</tr>\n",
       "</table>"
      ],
      "text/plain": [
       "<class 'statsmodels.iolib.summary.Summary'>\n",
       "\"\"\"\n",
       "                           Logit Regression Results                           \n",
       "==============================================================================\n",
       "Dep. Variable:                   loan   No. Observations:                45211\n",
       "Model:                          Logit   Df Residuals:                    45206\n",
       "Method:                           MLE   Df Model:                            4\n",
       "Date:                Fri, 26 May 2023   Pseudo R-squ.:                0.009618\n",
       "Time:                        17:01:12   Log-Likelihood:                -19704.\n",
       "converged:                       True   LL-Null:                       -19895.\n",
       "Covariance Type:            nonrobust   LLR p-value:                 1.531e-81\n",
       "=================================================================================================\n",
       "                                    coef    std err          z      P>|z|      [0.025      0.975]\n",
       "-------------------------------------------------------------------------------------------------\n",
       "Intercept                        -1.7082      0.023    -74.456      0.000      -1.753      -1.663\n",
       "job_cat[T.Blue_Collar]            0.1590      0.029      5.516      0.000       0.102       0.215\n",
       "job_cat[T.Self-Employed]          0.2634      0.051      5.128      0.000       0.163       0.364\n",
       "job_cat[T.Student]               -2.6377      0.291     -9.051      0.000      -3.209      -2.067\n",
       "job_cat[T.Unemployed/Retired]    -0.3880      0.056     -6.872      0.000      -0.499      -0.277\n",
       "=================================================================================================\n",
       "\"\"\""
      ]
     },
     "execution_count": 97,
     "metadata": {},
     "output_type": "execute_result"
    }
   ],
   "source": [
    "model4L = logit(formula='loan ~ job_cat', data=train_data).fit()\n",
    "\n",
    "model4L.summary()"
   ]
  },
  {
   "cell_type": "code",
   "execution_count": 98,
   "metadata": {},
   "outputs": [
    {
     "data": {
      "image/png": "[encoded data removed]",
      "text/plain": [
       "<Figure size 432x288 with 1 Axes>"
      ]
     },
     "metadata": {
      "needs_background": "light"
     },
     "output_type": "display_data"
    }
   ],
   "source": [
    "# Make predictions for Model #4L\n",
    "train_data['pred_4L'] = model4L.predict(train_data)\n",
    "\n",
    "# Generate fpr, tpr, and thresholds for ROC curve\n",
    "fpr, tpr, thresholds = skm.roc_curve(train_data['loan'], train_data['pred_4L'])\n",
    "\n",
    "# Display ROC Curve w/ AUC Score: Model4L\n",
    "plot_roc(fpr,tpr, title='Model 4L')"
   ]
  },
  {
   "cell_type": "code",
   "execution_count": 101,
   "metadata": {},
   "outputs": [
    {
     "name": "stdout",
     "output_type": "stream",
     "text": [
      "Optimization terminated successfully.\n",
      "         Current function value: 0.433880\n",
      "         Iterations 7\n"
     ]
    },
    {
     "data": {
      "text/html": [
       "<table class=\"simpletable\">\n",
       "<caption>Logit Regression Results</caption>\n",
       "<tr>\n",
       "  <th>Dep. Variable:</th>         <td>loan</td>       <th>  No. Observations:  </th>   <td> 45211</td>  \n",
       "</tr>\n",
       "<tr>\n",
       "  <th>Model:</th>                 <td>Logit</td>      <th>  Df Residuals:      </th>   <td> 45209</td>  \n",
       "</tr>\n",
       "<tr>\n",
       "  <th>Method:</th>                 <td>MLE</td>       <th>  Df Model:          </th>   <td>     1</td>  \n",
       "</tr>\n",
       "<tr>\n",
       "  <th>Date:</th>            <td>Fri, 26 May 2023</td> <th>  Pseudo R-squ.:     </th>   <td>0.01401</td> \n",
       "</tr>\n",
       "<tr>\n",
       "  <th>Time:</th>                <td>22:24:33</td>     <th>  Log-Likelihood:    </th>  <td> -19616.</td> \n",
       "</tr>\n",
       "<tr>\n",
       "  <th>converged:</th>             <td>True</td>       <th>  LL-Null:           </th>  <td> -19895.</td> \n",
       "</tr>\n",
       "<tr>\n",
       "  <th>Covariance Type:</th>     <td>nonrobust</td>    <th>  LLR p-value:       </th> <td>3.032e-123</td>\n",
       "</tr>\n",
       "</table>\n",
       "<table class=\"simpletable\">\n",
       "<tr>\n",
       "      <td></td>         <th>coef</th>     <th>std err</th>      <th>z</th>      <th>P>|z|</th>  <th>[0.025</th>    <th>0.975]</th>  \n",
       "</tr>\n",
       "<tr>\n",
       "  <th>Intercept</th> <td>   -1.4789</td> <td>    0.015</td> <td>  -99.932</td> <td> 0.000</td> <td>   -1.508</td> <td>   -1.450</td>\n",
       "</tr>\n",
       "<tr>\n",
       "  <th>balance</th>   <td>   -0.0002</td> <td> 8.91e-06</td> <td>  -19.358</td> <td> 0.000</td> <td>   -0.000</td> <td>   -0.000</td>\n",
       "</tr>\n",
       "</table>"
      ],
      "text/plain": [
       "<class 'statsmodels.iolib.summary.Summary'>\n",
       "\"\"\"\n",
       "                           Logit Regression Results                           \n",
       "==============================================================================\n",
       "Dep. Variable:                   loan   No. Observations:                45211\n",
       "Model:                          Logit   Df Residuals:                    45209\n",
       "Method:                           MLE   Df Model:                            1\n",
       "Date:                Fri, 26 May 2023   Pseudo R-squ.:                 0.01401\n",
       "Time:                        22:24:33   Log-Likelihood:                -19616.\n",
       "converged:                       True   LL-Null:                       -19895.\n",
       "Covariance Type:            nonrobust   LLR p-value:                3.032e-123\n",
       "==============================================================================\n",
       "                 coef    std err          z      P>|z|      [0.025      0.975]\n",
       "------------------------------------------------------------------------------\n",
       "Intercept     -1.4789      0.015    -99.932      0.000      -1.508      -1.450\n",
       "balance       -0.0002   8.91e-06    -19.358      0.000      -0.000      -0.000\n",
       "==============================================================================\n",
       "\"\"\""
      ]
     },
     "execution_count": 101,
     "metadata": {},
     "output_type": "execute_result"
    }
   ],
   "source": [
    "model5L = logit(formula='loan ~ balance', data=train_data).fit()\n",
    "\n",
    "model5L.summary()"
   ]
  },
  {
   "cell_type": "code",
   "execution_count": 102,
   "metadata": {},
   "outputs": [
    {
     "data": {
      "image/png": "[encoded data removed]",
      "text/plain": [
       "<Figure size 432x288 with 1 Axes>"
      ]
     },
     "metadata": {
      "needs_background": "light"
     },
     "output_type": "display_data"
    }
   ],
   "source": [
    "# Make predictions for Model #5L\n",
    "train_data['pred_5L'] = model5L.predict(train_data)\n",
    "\n",
    "# Generate fpr, tpr, and thresholds for ROC curve\n",
    "fpr, tpr, thresholds = skm.roc_curve(train_data['loan'], train_data['pred_5L'])\n",
    "\n",
    "# Display ROC Curve w/ AUC Score: Model5L\n",
    "plot_roc(fpr,tpr, title='Model 5L')"
   ]
  },
  {
   "cell_type": "code",
   "execution_count": 162,
   "metadata": {},
   "outputs": [],
   "source": [
    "from sklearn.linear_model import LogisticRegression\n",
    "from sklearn.ensemble import RandomForestClassifier, GradientBoostingClassifier\n",
    "from xgboost import XGBClassifier\n",
    "from sklearn.svm import SVC\n",
    "from sklearn.naive_bayes import GaussianNB\n",
    "from sklearn.model_selection import train_test_split, cross_val_score, cross_val_predict, GridSearchCV\n",
    "from sklearn.metrics import accuracy_score, roc_auc_score, recall_score, accuracy_score, classification_report, r2_score, ConfusionMatrixDisplay, confusion_matrix, RocCurveDisplay\n",
    "from sklearn.preprocessing import StandardScaler, LabelEncoder, OneHotEncoder\n",
    "from imblearn.over_sampling import SMOTE\n",
    "from sklearn.pipeline import Pipeline\n",
    "from sklearn.compose import ColumnTransformer\n",
    " \n",
    "X_train = pd.get_dummies(train_data[['marital', 'education', 'default', 'balance', 'housing', 'age_cat', 'balance_cat', 'job_cat', 'age']].copy())\n",
    "X_test = pd.get_dummies(test_data[['marital', 'education', 'default', 'balance', 'housing', 'age_cat', 'balance_cat', 'job_cat', 'age']].copy())\n",
    "y_train = train_data['loan']\n",
    "y_test = test_data['loan']"
   ]
  },
  {
   "cell_type": "code",
   "execution_count": 123,
   "metadata": {},
   "outputs": [],
   "source": [
    "ohe = OneHotEncoder()\n",
    "scaler = StandardScaler()\n",
    "\n",
    "cat_transformer = Pipeline(steps=[('ohe', OneHotEncoder())])\n",
    "num_transformer = Pipeline(steps=[('scaler', StandardScaler())])                                 \n",
    "\n",
    "cat_train_cols = X_train.select_dtypes(include=['object']).columns\n",
    "cat_test_cols = X_test.select_dtypes(include=['object']).columns\n",
    "\n",
    "num_train_cols = X_train.select_dtypes(exclude=['object']).columns\n",
    "num_test_cols = X_test.select_dtypes(exclude=['object']).columns\n",
    "\n",
    "\n",
    "processor = ColumnTransformer(transformers=[('cat_trans', cat_transformer, cat_train_cols), \n",
    "                                            ('num_trans', num_transformer, num_train_cols)\n",
    "                                        ])\n",
    "\n",
    "X_train_processed = processor.fit_transform(X_train)\n",
    "X_test_processed = processor.transform(X_test)"
   ]
  },
  {
   "attachments": {},
   "cell_type": "markdown",
   "metadata": {},
   "source": [
    "### Determine the best model using 10-Fold Cross Validation (Accuracy Scores)"
   ]
  },
  {
   "cell_type": "code",
   "execution_count": 153,
   "metadata": {},
   "outputs": [],
   "source": [
    "lr = LogisticRegression(random_state=42)\n",
    "rf = RandomForestClassifier(random_state=42)\n",
    "gb = GradientBoostingClassifier(random_state=42)\n",
    "sv = SVC(random_state=42)\n",
    "nb = GaussianNB()\n",
    "xgb = XGBClassifier(use_label_encoder=False, objective='binary:logistic', eval_metric='error')"
   ]
  },
  {
   "cell_type": "code",
   "execution_count": 154,
   "metadata": {},
   "outputs": [
    {
     "name": "stdout",
     "output_type": "stream",
     "text": [
      "Logistic Regression Cross Validation Score: 84.0\n",
      "Random Forest Cross Validation Score: 80.0\n",
      "Gradient Boost Cross Validation Score: 84.0\n",
      "Gausian Naive Bayes Cross Validation Score: 74.0\n",
      "XGBoost Cross Validation Score: 84.0\n"
     ]
    }
   ],
   "source": [
    "\n",
    "model_map = {lr:'Logistic Regression', rf:'Random Forest', gb:'Gradient Boost', nb:'Gausian Naive Bayes', xgb:'XGBoost'}\n",
    "\n",
    "for index, model in enumerate(model_map):\n",
    "    cv_score = cross_val_score(model, X_train_processed, y_train, cv=10)\n",
    "    cv_avg = (round(cv_score.mean(), 2)) * 100\n",
    "    print(model_map[model] + f\" Cross Validation Score: {cv_avg}\")"
   ]
  },
  {
   "attachments": {},
   "cell_type": "markdown",
   "metadata": {},
   "source": [
    "### 10-Fold Cross Validation (AUC Scores)"
   ]
  },
  {
   "cell_type": "code",
   "execution_count": 155,
   "metadata": {},
   "outputs": [
    {
     "name": "stdout",
     "output_type": "stream",
     "text": [
      "Logistic Regression Cross Validation Score: 61.0\n",
      "Random Forest Cross Validation Score: 65.0\n",
      "Gradient Boost Cross Validation Score: 63.0\n",
      "Gausian Naive Bayes Cross Validation Score: 62.0\n",
      "XGBoost Cross Validation Score: 65.0\n"
     ]
    }
   ],
   "source": [
    "for index, model in enumerate(model_map):\n",
    "    cv_score = cross_val_score(model, X_train_processed, y_train, cv=10, scoring='roc_auc')\n",
    "    cv_avg = (round(cv_score.mean(), 2)) * 100\n",
    "    print(model_map[model] + f\" Cross Validation Score: {cv_avg}\")\n",
    "    "
   ]
  },
  {
   "cell_type": "markdown",
   "metadata": {},
   "source": [
    "### Hyperparameter Tuning XGBoost Classifier"
   ]
  },
  {
   "cell_type": "code",
   "execution_count": 180,
   "metadata": {},
   "outputs": [
    {
     "name": "stdout",
     "output_type": "stream",
     "text": [
      "Best Parameters:  {'gamma': 0, 'learning_rate': 0.175, 'max_depth': 7, 'n_estimators': 4000}\n",
      "Best Score:  0.6706506427355328\n"
     ]
    }
   ],
   "source": [
    "#    'subsample': [0.8, 1.0],  # Subsample ratio of the training instances\n",
    "#    'colsample_bytree': [0.8, 1.0],  # Subsample ratio of features when constructing each tree\n",
    "\n",
    "# Define the parameter grid for grid search\n",
    "param_grid = {\n",
    "    'n_estimators': [4000, 5000, 6000],  # Number of trees in the forest\n",
    "    'learning_rate': [.175, .195, .2],  # Learning rate\n",
    "    'max_depth': [5, 7],  # Maximum depth of each tree\n",
    "    'gamma': [0, 0.01, .015]  # Minimum loss reduction required to make a further partition on a leaf node\n",
    "}\n",
    "\n",
    "\n",
    "# Perform grid search cross-validation\n",
    "grid_search = GridSearchCV(estimator=xgb, param_grid=param_grid, cv=5, scoring='roc_auc')\n",
    "grid_search.fit(X_train_processed, y_train)\n",
    "\n",
    "# Print the best parameters and score\n",
    "print(\"Best Parameters: \", grid_search.best_params_)\n",
    "print(\"Best Score: \", grid_search.best_score_)"
   ]
  },
  {
   "cell_type": "code",
   "execution_count": 181,
   "metadata": {},
   "outputs": [
    {
     "name": "stderr",
     "output_type": "stream",
     "text": [
      "c:\\Users\\mmaje\\anaconda3\\envs\\minimal_ds\\lib\\site-packages\\xgboost\\sklearn.py:1224: UserWarning: The use of label encoder in XGBClassifier is deprecated and will be removed in a future release. To remove this warning, do the following: 1) Pass option use_label_encoder=False when constructing XGBClassifier object; and 2) Encode your labels (y) as integers starting with 0, i.e. 0, 1, 2, ..., [num_class - 1].\n",
      "  warnings.warn(label_encoder_deprecation_msg, UserWarning)\n"
     ]
    },
    {
     "data": {
      "image/png": "[encoded data removed]",
      "text/plain": [
       "<Figure size 432x288 with 1 Axes>"
      ]
     },
     "metadata": {
      "needs_background": "light"
     },
     "output_type": "display_data"
    }
   ],
   "source": [
    "xgb_model = XGBClassifier(n_estimators=4000, learning_rate=0.175, max_depth=7, gamma=0, random_state=42, eval_metric='error')\n",
    "\n",
    "y_prob = cross_val_predict(xgb_model, X_train_processed, y_train, cv=5, method='predict_proba')\n",
    "y_scores = y_prob[:, 1]\n",
    "\n",
    "xgb_fit = xgb_model.fit(X_train_processed, y_train)\n",
    "y_pred = xgb_model.predict(X_test_processed)\n",
    "\n",
    "\n",
    "# Make predictions for XGBoost\n",
    "#test_data['pred'] = xgb_model.predict(X_test_processed)\n",
    "\n",
    "# Generate fpr, tpr, and thresholds for ROC curve\n",
    "fpr, tpr, thresholds = skm.roc_curve(y_train, y_scores)\n",
    "\n",
    "\n",
    "# ROC Curve Plot Function\n",
    "def plot_roc(fpr,tpr, title):\n",
    "    \n",
    "    # AUC score\n",
    "    auc_score = skm.auc(fpr,tpr)\n",
    "    \n",
    "    # ROC curve\n",
    "    skm.RocCurveDisplay(fpr=fpr, tpr=tpr,\n",
    "                        roc_auc=auc_score,\n",
    "                        estimator_name='results').plot()\n",
    "    \n",
    "    # Add title to ROC curve\n",
    "    plt.title(title)\n",
    "    \n",
    "    # Add the diagonal line\n",
    "    plt.plot([0, 1], [0, 1], \n",
    "             color='orange', \n",
    "             linestyle='--')\n",
    "\n",
    "# Display ROC Curve w/ AUC Score\n",
    "plot_roc(fpr,tpr, title='XGB AUC Score')"
   ]
  },
  {
   "cell_type": "code",
   "execution_count": 182,
   "metadata": {},
   "outputs": [
    {
     "name": "stdout",
     "output_type": "stream",
     "text": [
      "              precision    recall  f1-score   support\n",
      "\n",
      "           0       0.96      1.00      0.98      3830\n",
      "           1       0.99      0.74      0.85       691\n",
      "\n",
      "    accuracy                           0.96      4521\n",
      "   macro avg       0.97      0.87      0.91      4521\n",
      "weighted avg       0.96      0.96      0.96      4521\n",
      "\n"
     ]
    }
   ],
   "source": [
    "report = classification_report(y_test, y_pred)\n",
    "print(report)"
   ]
  }
 ],
 "metadata": {
  "kernelspec": {
   "display_name": "Python 3.9.7 ('minimal_ds')",
   "language": "python",
   "name": "python3"
  },
  "language_info": {
   "codemirror_mode": {
    "name": "ipython",
    "version": 3
   },
   "file_extension": ".py",
   "mimetype": "text/x-python",
   "name": "python",
   "nbconvert_exporter": "python",
   "pygments_lexer": "ipython3",
   "version": "3.9.7"
  },
  "orig_nbformat": 4,
  "vscode": {
   "interpreter": {
    "hash": "98e2d319af96e9f8da81d38a5d6af667c8351e31b4b91fe344c387929efa3a5e"
   }
  }
 },
 "nbformat": 4,
 "nbformat_minor": 2
}
