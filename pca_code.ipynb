{
 "cells": [
  {
   "cell_type": "code",
   "execution_count": null,
   "metadata": {},
   "outputs": [],
   "source": [
    "from sklearn.decomposition import PCA\n",
    "from sklearn.preprocessing import OneHotEncoder\n",
    "\n",
    "df = train_data[['marital', 'education', 'housing',\n",
    "            'loan', 'contact', 'term_deposit', 'age_cat', 'balance_cat',\n",
    "            'job_cat']].copy()\n",
    "\n",
    "df_encoded = ohe.fit_transform(df).toarray()\n",
    "full_encoded_df = pd.DataFrame(df_encoded, columns=ohe.get_feature_names_out(df.columns))\n",
    "\n",
    "\n",
    "\n",
    "# Concatenate the original DataFrame and the encoded DataFrame\n",
    "#df_processed = pd.concat([X_scaled, encoded_df], axis=1)\n",
    "\n",
    "#X_scaled\n",
    "#df_processed\n",
    "pca = PCA(n_components=3)\n",
    "pca.fit(df_encoded)\n",
    "\n",
    "scores = pca.transform(df_encoded)\n",
    "scores_df = pd.DataFrame(scores, columns=['PC_1', 'PC_2', 'PC_3'])\n",
    "scores_df"
   ]
  },
  {
   "cell_type": "code",
   "execution_count": null,
   "metadata": {},
   "outputs": [],
   "source": [
    "y_label = []\n",
    "y = train_data['default']\n",
    "\n",
    "for i in y:\n",
    "    if i == 'no':\n",
    "        y_label.append('Good Standing')\n",
    "    elif i == 'yes':\n",
    "        y_label.append('Default')\n",
    "    else:\n",
    "        y_label.append('Invalid Entry')\n",
    "\n",
    "defaults = pd.DataFrame(y_label, columns=['Default'])\n",
    "defaults"
   ]
  },
  {
   "cell_type": "code",
   "execution_count": null,
   "metadata": {},
   "outputs": [],
   "source": [
    "df_scores = pd.concat([scores_df, defaults], axis=1)\n",
    "#df_scores[df_scores['Default'] == 'Default']\n",
    "df_scores"
   ]
  },
  {
   "cell_type": "code",
   "execution_count": null,
   "metadata": {},
   "outputs": [],
   "source": [
    "loadings = pca.components_.T\n",
    "loadings_df = pd.DataFrame(loadings, columns=['PC_1', 'PC_2', 'PC_3'], index=full_encoded_df.columns)\n",
    "loadings_df"
   ]
  },
  {
   "cell_type": "code",
   "execution_count": null,
   "metadata": {},
   "outputs": [],
   "source": [
    "explained_variance = pca.explained_variance_ratio_\n",
    "explained_variance = np.insert(explained_variance, 0, 0)\n",
    "explained_variance"
   ]
  },
  {
   "cell_type": "code",
   "execution_count": null,
   "metadata": {},
   "outputs": [],
   "source": [
    "cumulative_variance = np.cumsum(np.round(explained_variance, decimals=3))"
   ]
  },
  {
   "cell_type": "code",
   "execution_count": null,
   "metadata": {},
   "outputs": [],
   "source": [
    "pc_df = pd.DataFrame(['', 'PC_1', 'PC_2', 'PC_3'], columns=['PC'])\n",
    "explained_variance_df = pd.DataFrame(explained_variance, columns=['Explained_Variance'])\n",
    "cumulative_variance_df = pd.DataFrame(cumulative_variance, columns=['Cumulative_Variance'])"
   ]
  },
  {
   "cell_type": "code",
   "execution_count": null,
   "metadata": {},
   "outputs": [],
   "source": [
    "df_explained_variance = pd.concat([pc_df, explained_variance_df, cumulative_variance_df], axis=1)\n",
    "df_explained_variance"
   ]
  },
  {
   "cell_type": "code",
   "execution_count": null,
   "metadata": {},
   "outputs": [],
   "source": [
    "import plotly.express as px\n",
    "\n",
    "\n",
    "fig = px.bar(df_explained_variance, x='PC', y='Explained_Variance', text='Explained_Variance', width=800)\n",
    "fig.update_traces(texttemplate='%{text:.3f}', textposition='outside')\n",
    "\n",
    "fig.show()\n",
    "\n",
    "#px.scatter_3d?"
   ]
  },
  {
   "cell_type": "code",
   "execution_count": null,
   "metadata": {},
   "outputs": [],
   "source": [
    "fig = px.scatter_3d(df_scores, x='PC_1', y='PC_2', z='PC_3', color='Default', opacity=0.5)\n",
    "fig.show()"
   ]
  },
  {
   "cell_type": "code",
   "execution_count": null,
   "metadata": {},
   "outputs": [],
   "source": [
    "loadings_labels = loadings_df.index\n",
    "\n",
    "fig = px.scatter_3d(loadings_df, x='PC_1', y='PC_2', z='PC_3', opacity=0.5, text=loadings_labels)\n",
    "fig.show()"
   ]
  },
  {
   "cell_type": "code",
   "execution_count": null,
   "metadata": {},
   "outputs": [],
   "source": []
  }
 ],
 "metadata": {
  "language_info": {
   "name": "python"
  },
  "orig_nbformat": 4
 },
 "nbformat": 4,
 "nbformat_minor": 2
}
